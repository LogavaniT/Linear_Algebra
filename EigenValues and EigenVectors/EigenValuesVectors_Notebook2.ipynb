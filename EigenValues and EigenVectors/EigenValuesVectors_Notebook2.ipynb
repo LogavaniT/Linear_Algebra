{
 "cells": [
  {
   "cell_type": "code",
   "execution_count": 30,
   "id": "d06abc29-e97c-43d9-a0ca-76395fcb21b3",
   "metadata": {},
   "outputs": [
    {
     "name": "stdout",
     "output_type": "stream",
     "text": [
      "[[ 0.26955165  0.90772191 -0.74373492]\n",
      " [ 0.36874217  0.24316331 -0.65468206]\n",
      " [ 0.88959042 -0.34192476  0.13509171]]\n",
      "3\n",
      "Eigenvectors corresponding to distinct eigenvalues are linearly dependent.\n"
     ]
    }
   ],
   "source": [
    "import numpy as np\n",
    "import sympy as sy\n",
    "from numpy import linalg\n",
    "#define matrix A\n",
    "A=np.array([[0,1,2],[1,0,3],[4,-3,8]])\n",
    "\n",
    "#compute eigen values and eigen vectors\n",
    "eigen_values,eigen_vectors=linalg.eig(A)\n",
    "print(eigen_vectors)\n",
    "\n",
    "#extract eigen vectors corresponding to the eigen values\n",
    "distinct_eigenvalues=[]\n",
    "distinct_eigenvectors=[]\n",
    "\n",
    "for i in range(len(eigen_values)):\n",
    "    if eigen_values[i] not in distinct_eigenvalues:\n",
    "        distinct_eigenvalues.append(eigen_values[i])\n",
    "        distinct_eigenvectors.append(eigen_vectors[ : ,i])\n",
    "        \n",
    "#create a matrix using distinct eigen vectors\n",
    "vector_matrix=np.column_stack(distinct_eigenvectors)\n",
    "\n",
    "#compute rank\n",
    "rank=linalg.matrix_rank(vector_matrix)\n",
    "print(rank)\n",
    "\n",
    "rref_matrix, _ = sy.Matrix(vector_matrix).rref()\n"
   ]
  },
  {
   "cell_type": "code",
   "execution_count": null,
   "id": "79d7499a-a827-4dba-9784-563254642f3a",
   "metadata": {},
   "outputs": [],
   "source": []
  }
 ],
 "metadata": {
  "kernelspec": {
   "display_name": "Python 3 (ipykernel)",
   "language": "python",
   "name": "python3"
  },
  "language_info": {
   "codemirror_mode": {
    "name": "ipython",
    "version": 3
   },
   "file_extension": ".py",
   "mimetype": "text/x-python",
   "name": "python",
   "nbconvert_exporter": "python",
   "pygments_lexer": "ipython3",
   "version": "3.12.2"
  }
 },
 "nbformat": 4,
 "nbformat_minor": 5
}
